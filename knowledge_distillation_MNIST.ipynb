{
 "cells": [
  {
   "cell_type": "code",
   "execution_count": 1,
   "metadata": {
    "id": "pVi-VYkgusTZ"
   },
   "outputs": [],
   "source": [
    "import torch, torchvision\n",
    "from tqdm import tqdm\n",
    "import matplotlib.pyplot as plt\n",
    "import pandas as pd"
   ]
  },
  {
   "cell_type": "code",
   "execution_count": 2,
   "metadata": {
    "id": "erZclNpKuwb3"
   },
   "outputs": [],
   "source": [
    "#Dataset and dataloader operations\n",
    "train_set = torchvision.datasets.MNIST('.', train=True, transform=torchvision.transforms.ToTensor(), download=True)\n",
    "train_set, val_set = torch.utils.data.random_split(train_set, [50000, 10000])\n",
    "test_set = torchvision.datasets.MNIST('.', train=False, transform=torchvision.transforms.ToTensor(), download=True)\n",
    "train_loader = torch.utils.data.DataLoader(train_set, batch_size=1024, shuffle=True)\n",
    "val_loader = torch.utils.data.DataLoader(val_set, batch_size=16384, shuffle=True)\n",
    "test_loader = torch.utils.data.DataLoader(test_set, batch_size=16384, shuffle=False)"
   ]
  },
  {
   "cell_type": "code",
   "execution_count": 3,
   "metadata": {
    "id": "UM-CH5FkvQfU"
   },
   "outputs": [],
   "source": [
    "#Definition of a high capacity model to be used as teacher \n",
    "class LargeModel(torch.nn.Module):\n",
    "    def __init__(self):\n",
    "        super().__init__()\n",
    "        self.layers = torch.nn.Sequential(       \n",
    "          torch.nn.Linear(784, 1024),\n",
    "          torch.nn.ReLU(),\n",
    "          torch.nn.Dropout(p=0.5),\n",
    "          torch.nn.Linear(1024, 1024),\n",
    "          torch.nn.ReLU(),\n",
    "          torch.nn.Dropout(p=0.5),\n",
    "          torch.nn.Linear(1024, 10),\n",
    "        )\n",
    "    def forward(self, x):\n",
    "        return self.layers(x)"
   ]
  },
  {
   "cell_type": "code",
   "execution_count": 4,
   "metadata": {
    "id": "NaDJW0btwIf2"
   },
   "outputs": [],
   "source": [
    "#Definition of a lower capacity model to be used as student\n",
    "class TinyModel(torch.nn.Module):\n",
    "    def __init__(self):\n",
    "        super().__init__()\n",
    "        self.layers = torch.nn.Sequential(\n",
    "            torch.nn.Linear(784, 256),\n",
    "            torch.nn.ReLU(),\n",
    "            torch.nn.Dropout(p=0.5),\n",
    "            torch.nn.Linear(256, 10),\n",
    "        )\n",
    "    def forward(self, x):\n",
    "        return self.layers(x)"
   ]
  },
  {
   "cell_type": "code",
   "execution_count": 5,
   "metadata": {
    "id": "Q97A_wDpwWY4"
   },
   "outputs": [],
   "source": [
    "#Definitions for training and evaluation logic\n",
    "\n",
    "def train(model, train_loader):\n",
    "    '''\n",
    "      Trains 'model' for one epoch of 'train_loader'\n",
    "    '''\n",
    "\n",
    "    model.train()\n",
    "\n",
    "    loss_fn = torch.nn.CrossEntropyLoss()\n",
    "    optimizer = torch.optim.Adam(model.parameters()) \n",
    "    for imgs, labels in tqdm(train_loader):\n",
    "        optimizer.zero_grad()\n",
    "        imgs, labels = imgs.cuda(), labels.cuda()\n",
    "        flat_imgs = imgs.view(-1, 784)\n",
    "        scores = model(flat_imgs)\n",
    "        loss = loss_fn(scores, labels)\n",
    "        loss.backward()\n",
    "        optimizer.step()\n",
    "\n",
    "\n",
    "def evaluate(model, loader):\n",
    "    '''\n",
    "      Evaluates 'model' accuracy on 'loader'\n",
    "    '''\n",
    "    model.eval()\n",
    "    correct = 0\n",
    "    false = 0\n",
    "    with torch.no_grad():\n",
    "        for imgs, labels in loader:\n",
    "            imgs, labels = imgs.cuda(), labels.cuda()\n",
    "            flat_imgs = imgs.view(-1, 784)\n",
    "            scores = model(flat_imgs)\n",
    "            preds = torch.argmax(scores, dim=-1)\n",
    "            correct_batch = torch.sum(preds==labels)\n",
    "            false_batch = len(labels) - correct_batch\n",
    "            correct += correct_batch.item()\n",
    "            false += false_batch.item()\n",
    "    return correct / (correct + false)\n",
    "\n",
    "\n",
    "\n"
   ]
  },
  {
   "cell_type": "code",
   "execution_count": 6,
   "metadata": {},
   "outputs": [],
   "source": [
    "# model = LargeModel().cuda()\n",
    "# model.train()\n",
    "# loss_fn = torch.nn.CrossEntropyLoss()\n",
    "# optimizer = torch.optim.Adam(model.parameters())\n",
    "# for imgs, labels in tqdm(train_loader):\n",
    "#         optimizer.zero_grad()\n",
    "#         imgs, labels = imgs.cuda(), labels.cuda()\n",
    "#         flat_imgs = imgs.view(-1, 784)\n",
    "#         scores = model(flat_imgs)\n",
    "#         print(sum(scores[4]))\n",
    "#         prob = torch.nn.functional.softmax(scores, dim=-1)\n",
    "#         print(sum(prob[4]))\n",
    "#         break"
   ]
  },
  {
   "cell_type": "markdown",
   "metadata": {},
   "source": [
    "# Section 1\n",
    "## Train a teacher network for 10 epochs."
   ]
  },
  {
   "cell_type": "code",
   "execution_count": 7,
   "metadata": {
    "id": "2IFWJc2cw77t"
   },
   "outputs": [
    {
     "name": "stdout",
     "output_type": "stream",
     "text": [
      "\n",
      "Validation accuracy before epoch 1: 0.0984\n"
     ]
    },
    {
     "name": "stderr",
     "output_type": "stream",
     "text": [
      "100%|███████████████████████████████████████████| 49/49 [00:04<00:00, 11.51it/s]\n"
     ]
    },
    {
     "name": "stdout",
     "output_type": "stream",
     "text": [
      "\n",
      "Validation accuracy before epoch 2: 0.9225\n"
     ]
    },
    {
     "name": "stderr",
     "output_type": "stream",
     "text": [
      "100%|███████████████████████████████████████████| 49/49 [00:04<00:00, 11.59it/s]\n"
     ]
    },
    {
     "name": "stdout",
     "output_type": "stream",
     "text": [
      "\n",
      "Validation accuracy before epoch 3: 0.9541\n"
     ]
    },
    {
     "name": "stderr",
     "output_type": "stream",
     "text": [
      "100%|███████████████████████████████████████████| 49/49 [00:04<00:00, 11.50it/s]\n"
     ]
    },
    {
     "name": "stdout",
     "output_type": "stream",
     "text": [
      "\n",
      "Validation accuracy before epoch 4: 0.9637\n"
     ]
    },
    {
     "name": "stderr",
     "output_type": "stream",
     "text": [
      "100%|███████████████████████████████████████████| 49/49 [00:04<00:00, 11.52it/s]\n"
     ]
    },
    {
     "name": "stdout",
     "output_type": "stream",
     "text": [
      "\n",
      "Validation accuracy before epoch 5: 0.9687\n"
     ]
    },
    {
     "name": "stderr",
     "output_type": "stream",
     "text": [
      "100%|███████████████████████████████████████████| 49/49 [00:04<00:00, 11.65it/s]\n"
     ]
    },
    {
     "name": "stdout",
     "output_type": "stream",
     "text": [
      "\n",
      "Validation accuracy before epoch 6: 0.9731\n"
     ]
    },
    {
     "name": "stderr",
     "output_type": "stream",
     "text": [
      "100%|███████████████████████████████████████████| 49/49 [00:04<00:00, 11.85it/s]\n"
     ]
    },
    {
     "name": "stdout",
     "output_type": "stream",
     "text": [
      "\n",
      "Validation accuracy before epoch 7: 0.9755\n"
     ]
    },
    {
     "name": "stderr",
     "output_type": "stream",
     "text": [
      "100%|███████████████████████████████████████████| 49/49 [00:04<00:00, 11.85it/s]\n"
     ]
    },
    {
     "name": "stdout",
     "output_type": "stream",
     "text": [
      "\n",
      "Validation accuracy before epoch 8: 0.9765\n"
     ]
    },
    {
     "name": "stderr",
     "output_type": "stream",
     "text": [
      "100%|███████████████████████████████████████████| 49/49 [00:04<00:00, 11.79it/s]\n"
     ]
    },
    {
     "name": "stdout",
     "output_type": "stream",
     "text": [
      "\n",
      "Validation accuracy before epoch 9: 0.9773\n"
     ]
    },
    {
     "name": "stderr",
     "output_type": "stream",
     "text": [
      "100%|███████████████████████████████████████████| 49/49 [00:04<00:00, 11.65it/s]\n"
     ]
    },
    {
     "name": "stdout",
     "output_type": "stream",
     "text": [
      "\n",
      "Validation accuracy before epoch 10: 0.9777\n"
     ]
    },
    {
     "name": "stderr",
     "output_type": "stream",
     "text": [
      "100%|███████████████████████████████████████████| 49/49 [00:04<00:00, 11.46it/s]\n"
     ]
    },
    {
     "name": "stdout",
     "output_type": "stream",
     "text": [
      "\n",
      "Test accuracy after 10 epochs of training: 0.9813\n"
     ]
    }
   ],
   "source": [
    "#Train teacher standalone\n",
    "#You should change the cell to include plotting logic\n",
    "\n",
    "teacher = LargeModel().cuda()\n",
    "val_accs = []\n",
    "epochs = []\n",
    "for epoch in range(10):\n",
    "    val_acc = evaluate(teacher, val_loader)\n",
    "    print(f'\\nValidation accuracy before epoch {epoch+1}: {val_acc}')\n",
    "    train(teacher, train_loader)\n",
    "    val_acc_after = evaluate(teacher, val_loader)\n",
    "    val_accs.append(val_acc_after)\n",
    "    epochs.append(epoch+1)\n",
    "    # print(f'\\nValidation accuracy after epoch {epoch+1}: {val_acc_after}')\n",
    "    \n",
    "test_acc = evaluate(teacher, test_loader)\n",
    "print(f'\\nTest accuracy after {epoch+1} epochs of training: {test_acc}')\n",
    "\n",
    "\n"
   ]
  },
  {
   "cell_type": "markdown",
   "metadata": {},
   "source": [
    "## Report the best validation"
   ]
  },
  {
   "cell_type": "code",
   "execution_count": 8,
   "metadata": {},
   "outputs": [
    {
     "data": {
      "text/plain": [
       "0.9797"
      ]
     },
     "execution_count": 8,
     "metadata": {},
     "output_type": "execute_result"
    }
   ],
   "source": [
    "max(val_accs)"
   ]
  },
  {
   "cell_type": "markdown",
   "metadata": {},
   "source": [
    "## Report test accuracy  "
   ]
  },
  {
   "cell_type": "code",
   "execution_count": 9,
   "metadata": {},
   "outputs": [
    {
     "data": {
      "text/plain": [
       "0.9813"
      ]
     },
     "execution_count": 9,
     "metadata": {},
     "output_type": "execute_result"
    }
   ],
   "source": [
    "test_acc"
   ]
  },
  {
   "cell_type": "markdown",
   "metadata": {},
   "source": [
    "## Plot the validation accuracy with respect to training epoch."
   ]
  },
  {
   "cell_type": "code",
   "execution_count": 10,
   "metadata": {},
   "outputs": [
    {
     "data": {
      "image/png": "[encoded data removed]",
      "text/plain": [
       "<Figure size 432x288 with 1 Axes>"
      ]
     },
     "metadata": {
      "needs_background": "light"
     },
     "output_type": "display_data"
    }
   ],
   "source": [
    "plt.plot(epochs, val_accs)\n",
    "plt.xlabel('Training Epoch')\n",
    "plt.ylabel('Validation Accuracy')\n",
    "plt.title('Teacher only - Validation Acc vs Epoch')\n",
    "# plt.legend()\n",
    "plt.show()"
   ]
  },
  {
   "cell_type": "markdown",
   "metadata": {},
   "source": [
    "# Section 2\n",
    "## Train a student network for 10 epochs."
   ]
  },
  {
   "cell_type": "code",
   "execution_count": 11,
   "metadata": {
    "id": "lQU-Y9dooMBQ"
   },
   "outputs": [
    {
     "name": "stdout",
     "output_type": "stream",
     "text": [
      "\n",
      "Validation accuracy before epoch 1: 0.0887\n"
     ]
    },
    {
     "name": "stderr",
     "output_type": "stream",
     "text": [
      "100%|███████████████████████████████████████████| 49/49 [00:04<00:00, 11.67it/s]\n"
     ]
    },
    {
     "name": "stdout",
     "output_type": "stream",
     "text": [
      "\n",
      "Validation accuracy before epoch 2: 0.8862\n"
     ]
    },
    {
     "name": "stderr",
     "output_type": "stream",
     "text": [
      "100%|███████████████████████████████████████████| 49/49 [00:04<00:00, 11.63it/s]\n"
     ]
    },
    {
     "name": "stdout",
     "output_type": "stream",
     "text": [
      "\n",
      "Validation accuracy before epoch 3: 0.9156\n"
     ]
    },
    {
     "name": "stderr",
     "output_type": "stream",
     "text": [
      "100%|███████████████████████████████████████████| 49/49 [00:04<00:00, 11.58it/s]\n"
     ]
    },
    {
     "name": "stdout",
     "output_type": "stream",
     "text": [
      "\n",
      "Validation accuracy before epoch 4: 0.9299\n"
     ]
    },
    {
     "name": "stderr",
     "output_type": "stream",
     "text": [
      "100%|███████████████████████████████████████████| 49/49 [00:04<00:00, 11.46it/s]\n"
     ]
    },
    {
     "name": "stdout",
     "output_type": "stream",
     "text": [
      "\n",
      "Validation accuracy before epoch 5: 0.94\n"
     ]
    },
    {
     "name": "stderr",
     "output_type": "stream",
     "text": [
      "100%|███████████████████████████████████████████| 49/49 [00:04<00:00, 11.57it/s]\n"
     ]
    },
    {
     "name": "stdout",
     "output_type": "stream",
     "text": [
      "\n",
      "Validation accuracy before epoch 6: 0.9478\n"
     ]
    },
    {
     "name": "stderr",
     "output_type": "stream",
     "text": [
      "100%|███████████████████████████████████████████| 49/49 [00:04<00:00, 11.87it/s]\n"
     ]
    },
    {
     "name": "stdout",
     "output_type": "stream",
     "text": [
      "\n",
      "Validation accuracy before epoch 7: 0.9514\n"
     ]
    },
    {
     "name": "stderr",
     "output_type": "stream",
     "text": [
      "100%|███████████████████████████████████████████| 49/49 [00:04<00:00, 11.89it/s]\n"
     ]
    },
    {
     "name": "stdout",
     "output_type": "stream",
     "text": [
      "\n",
      "Validation accuracy before epoch 8: 0.9562\n"
     ]
    },
    {
     "name": "stderr",
     "output_type": "stream",
     "text": [
      "100%|███████████████████████████████████████████| 49/49 [00:04<00:00, 11.91it/s]\n"
     ]
    },
    {
     "name": "stdout",
     "output_type": "stream",
     "text": [
      "\n",
      "Validation accuracy before epoch 9: 0.9603\n"
     ]
    },
    {
     "name": "stderr",
     "output_type": "stream",
     "text": [
      "100%|███████████████████████████████████████████| 49/49 [00:04<00:00, 11.51it/s]\n"
     ]
    },
    {
     "name": "stdout",
     "output_type": "stream",
     "text": [
      "\n",
      "Validation accuracy before epoch 10: 0.963\n"
     ]
    },
    {
     "name": "stderr",
     "output_type": "stream",
     "text": [
      "100%|███████████████████████████████████████████| 49/49 [00:04<00:00, 11.39it/s]\n"
     ]
    },
    {
     "name": "stdout",
     "output_type": "stream",
     "text": [
      "\n",
      "Test accuracy after 10 epochs of training: 0.9677\n"
     ]
    }
   ],
   "source": [
    "#Train student standalone\n",
    "#You should change the cell to include plotting logic\n",
    "\n",
    "student = TinyModel().cuda()\n",
    "val_accs = []\n",
    "epochs = []\n",
    "for epoch in range(10):\n",
    "    val_acc = evaluate(student, val_loader)\n",
    "    print(f'\\nValidation accuracy before epoch {epoch+1}: {val_acc}')\n",
    "    train(student, train_loader)\n",
    "    val_acc_after = evaluate(student, val_loader)\n",
    "    val_accs.append(val_acc_after)\n",
    "    epochs.append(epoch+1)\n",
    "test_acc = evaluate(student, test_loader)\n",
    "print(f'\\nTest accuracy after {epoch+1} epochs of training: {test_acc}')\n",
    "\n"
   ]
  },
  {
   "cell_type": "markdown",
   "metadata": {},
   "source": [
    "## Report the best validation"
   ]
  },
  {
   "cell_type": "code",
   "execution_count": 12,
   "metadata": {},
   "outputs": [
    {
     "data": {
      "text/plain": [
       "0.9647"
      ]
     },
     "execution_count": 12,
     "metadata": {},
     "output_type": "execute_result"
    }
   ],
   "source": [
    "student_only = val_accs.copy()\n",
    "max(val_accs)\n"
   ]
  },
  {
   "cell_type": "markdown",
   "metadata": {},
   "source": [
    "## Report test accuracy"
   ]
  },
  {
   "cell_type": "code",
   "execution_count": 13,
   "metadata": {},
   "outputs": [
    {
     "data": {
      "text/plain": [
       "0.9677"
      ]
     },
     "execution_count": 13,
     "metadata": {},
     "output_type": "execute_result"
    }
   ],
   "source": [
    "test_acc"
   ]
  },
  {
   "cell_type": "markdown",
   "metadata": {},
   "source": [
    "## Plot the validation accuracy with respect to training epoch."
   ]
  },
  {
   "cell_type": "code",
   "execution_count": 14,
   "metadata": {},
   "outputs": [
    {
     "data": {
      "image/png": "[encoded data removed]",
      "text/plain": [
       "<Figure size 432x288 with 1 Axes>"
      ]
     },
     "metadata": {
      "needs_background": "light"
     },
     "output_type": "display_data"
    }
   ],
   "source": [
    "plt.plot(epochs, val_accs)\n",
    "plt.xlabel('Training Epoch')\n",
    "plt.ylabel('Validation Accuracy')\n",
    "plt.title('Student Only - Validation Acc vs Epoch')\n",
    "plt.show()"
   ]
  },
  {
   "cell_type": "markdown",
   "metadata": {},
   "source": [
    "# Section 3\n",
    "##  Distill the knowledge of the teacher model into the student. Use MSE loss for teacher-student probability matching.\n"
   ]
  },
  {
   "cell_type": "markdown",
   "metadata": {},
   "source": [
    "### Sources\n"
   ]
  },
  {
   "cell_type": "code",
   "execution_count": 15,
   "metadata": {
    "id": "4VLb8gewfSFT"
   },
   "outputs": [],
   "source": [
    "# Define distillation logic as a function\n",
    "# You should change this cell to complete the function\n",
    "\n",
    "def distill(teacher, student, train_loader, temperature):\n",
    "    '''\n",
    "      Distills 'teacher' knowledge into 'student' for an epoch \n",
    "      using 'train_loader' and 'temperature'\n",
    "    '''\n",
    "\n",
    "    # Set teacher to the proper mode (train or eval)\n",
    "    teacher.eval()\n",
    "     \n",
    "    # Set student to the proper mode (train or eval)\n",
    "    student.train()\n",
    "     \n",
    "\n",
    "    ce_loss_fn = torch.nn.CrossEntropyLoss()\n",
    "\n",
    "    # Define loss function for distillation\n",
    "    distill_loss_fn = torch.nn.MSELoss()\n",
    "\n",
    "    optimizer = torch.optim.Adam(student.parameters()) \n",
    "    \n",
    "    for imgs, labels in tqdm(train_loader):\n",
    "        optimizer.zero_grad()\n",
    "        imgs, labels = imgs.cuda(), labels.cuda()\n",
    "        flat_imgs = imgs.view(-1, 784)\n",
    "        student_scores = student(flat_imgs)\n",
    "        teacher_scores = teacher(flat_imgs)\n",
    "\n",
    "        # Compute output probabilities of teacher and student using\n",
    "        # the scores and temperature constant\n",
    "        student_probs = torch.nn.functional.softmax(student_scores/temperature, dim=-1)\n",
    "        teacher_probs = torch.nn.functional.softmax(teacher_scores/temperature, dim=-1)\n",
    "\n",
    "        ce_loss = ce_loss_fn(student_scores, labels)\n",
    "        distill_loss = distill_loss_fn(student_probs, teacher_probs)\n",
    "\n",
    "        loss = ce_loss + distill_loss\n",
    "\n",
    "        loss.backward()\n",
    "        optimizer.step()"
   ]
  },
  {
   "cell_type": "markdown",
   "metadata": {},
   "source": [
    "## Experiment with temperature constant, number of epochs.\n",
    "**NOTE:** There is no learning process on the teacher object. Therefore, we do not expect any difference in test accuracy before and after the distillation process."
   ]
  },
  {
   "cell_type": "code",
   "execution_count": 16,
   "metadata": {
    "id": "yeqEnDa3L_Qm"
   },
   "outputs": [
    {
     "name": "stdout",
     "output_type": "stream",
     "text": [
      "\n",
      "Test accuracy of teacher before distillation: 0.9813\n",
      "\n",
      "Validation accuracy before epoch 1: 0.0561\n"
     ]
    },
    {
     "name": "stderr",
     "output_type": "stream",
     "text": [
      "100%|███████████████████████████████████████████| 49/49 [00:04<00:00, 11.02it/s]\n"
     ]
    },
    {
     "name": "stdout",
     "output_type": "stream",
     "text": [
      "\n",
      "Validation accuracy before epoch 2: 0.8824\n"
     ]
    },
    {
     "name": "stderr",
     "output_type": "stream",
     "text": [
      "100%|███████████████████████████████████████████| 49/49 [00:04<00:00, 11.11it/s]\n"
     ]
    },
    {
     "name": "stdout",
     "output_type": "stream",
     "text": [
      "\n",
      "Validation accuracy before epoch 3: 0.9185\n"
     ]
    },
    {
     "name": "stderr",
     "output_type": "stream",
     "text": [
      "100%|███████████████████████████████████████████| 49/49 [00:04<00:00, 11.14it/s]\n"
     ]
    },
    {
     "name": "stdout",
     "output_type": "stream",
     "text": [
      "\n",
      "Validation accuracy before epoch 4: 0.9319\n"
     ]
    },
    {
     "name": "stderr",
     "output_type": "stream",
     "text": [
      "100%|███████████████████████████████████████████| 49/49 [00:04<00:00, 10.74it/s]\n"
     ]
    },
    {
     "name": "stdout",
     "output_type": "stream",
     "text": [
      "\n",
      "Validation accuracy before epoch 5: 0.941\n"
     ]
    },
    {
     "name": "stderr",
     "output_type": "stream",
     "text": [
      "100%|███████████████████████████████████████████| 49/49 [00:04<00:00, 11.29it/s]\n"
     ]
    },
    {
     "name": "stdout",
     "output_type": "stream",
     "text": [
      "\n",
      "Validation accuracy before epoch 6: 0.9465\n"
     ]
    },
    {
     "name": "stderr",
     "output_type": "stream",
     "text": [
      "100%|███████████████████████████████████████████| 49/49 [00:04<00:00, 11.01it/s]\n"
     ]
    },
    {
     "name": "stdout",
     "output_type": "stream",
     "text": [
      "\n",
      "Validation accuracy before epoch 7: 0.9511\n"
     ]
    },
    {
     "name": "stderr",
     "output_type": "stream",
     "text": [
      "100%|███████████████████████████████████████████| 49/49 [00:04<00:00, 11.31it/s]\n"
     ]
    },
    {
     "name": "stdout",
     "output_type": "stream",
     "text": [
      "\n",
      "Validation accuracy before epoch 8: 0.9564\n"
     ]
    },
    {
     "name": "stderr",
     "output_type": "stream",
     "text": [
      "100%|███████████████████████████████████████████| 49/49 [00:04<00:00, 11.54it/s]\n"
     ]
    },
    {
     "name": "stdout",
     "output_type": "stream",
     "text": [
      "\n",
      "Validation accuracy before epoch 9: 0.9607\n"
     ]
    },
    {
     "name": "stderr",
     "output_type": "stream",
     "text": [
      "100%|███████████████████████████████████████████| 49/49 [00:04<00:00, 11.57it/s]\n"
     ]
    },
    {
     "name": "stdout",
     "output_type": "stream",
     "text": [
      "\n",
      "Validation accuracy before epoch 10: 0.9617\n"
     ]
    },
    {
     "name": "stderr",
     "output_type": "stream",
     "text": [
      "100%|███████████████████████████████████████████| 49/49 [00:04<00:00, 11.79it/s]\n"
     ]
    },
    {
     "name": "stdout",
     "output_type": "stream",
     "text": [
      "\n",
      "Test accuracy after 10 epochs of distillation: 0.9663\n",
      "\n",
      "Test accuracy of teacher before distillation: 0.9813\n",
      "\n",
      "Validation accuracy before epoch 1: 0.1024\n"
     ]
    },
    {
     "name": "stderr",
     "output_type": "stream",
     "text": [
      "100%|███████████████████████████████████████████| 49/49 [00:04<00:00, 11.57it/s]\n"
     ]
    },
    {
     "name": "stdout",
     "output_type": "stream",
     "text": [
      "\n",
      "Validation accuracy before epoch 2: 0.8875\n"
     ]
    },
    {
     "name": "stderr",
     "output_type": "stream",
     "text": [
      "100%|███████████████████████████████████████████| 49/49 [00:04<00:00, 11.68it/s]\n"
     ]
    },
    {
     "name": "stdout",
     "output_type": "stream",
     "text": [
      "\n",
      "Validation accuracy before epoch 3: 0.9155\n"
     ]
    },
    {
     "name": "stderr",
     "output_type": "stream",
     "text": [
      "100%|███████████████████████████████████████████| 49/49 [00:04<00:00, 11.64it/s]\n"
     ]
    },
    {
     "name": "stdout",
     "output_type": "stream",
     "text": [
      "\n",
      "Validation accuracy before epoch 4: 0.9331\n"
     ]
    },
    {
     "name": "stderr",
     "output_type": "stream",
     "text": [
      "100%|███████████████████████████████████████████| 49/49 [00:04<00:00, 11.53it/s]\n"
     ]
    },
    {
     "name": "stdout",
     "output_type": "stream",
     "text": [
      "\n",
      "Validation accuracy before epoch 5: 0.9414\n"
     ]
    },
    {
     "name": "stderr",
     "output_type": "stream",
     "text": [
      "100%|███████████████████████████████████████████| 49/49 [00:04<00:00, 11.55it/s]\n"
     ]
    },
    {
     "name": "stdout",
     "output_type": "stream",
     "text": [
      "\n",
      "Validation accuracy before epoch 6: 0.9492\n"
     ]
    },
    {
     "name": "stderr",
     "output_type": "stream",
     "text": [
      "100%|███████████████████████████████████████████| 49/49 [00:04<00:00, 11.62it/s]\n"
     ]
    },
    {
     "name": "stdout",
     "output_type": "stream",
     "text": [
      "\n",
      "Validation accuracy before epoch 7: 0.9532\n"
     ]
    },
    {
     "name": "stderr",
     "output_type": "stream",
     "text": [
      "100%|███████████████████████████████████████████| 49/49 [00:04<00:00, 11.77it/s]\n"
     ]
    },
    {
     "name": "stdout",
     "output_type": "stream",
     "text": [
      "\n",
      "Validation accuracy before epoch 8: 0.9553\n"
     ]
    },
    {
     "name": "stderr",
     "output_type": "stream",
     "text": [
      "100%|███████████████████████████████████████████| 49/49 [00:04<00:00, 11.62it/s]\n"
     ]
    },
    {
     "name": "stdout",
     "output_type": "stream",
     "text": [
      "\n",
      "Validation accuracy before epoch 9: 0.959\n"
     ]
    },
    {
     "name": "stderr",
     "output_type": "stream",
     "text": [
      "100%|███████████████████████████████████████████| 49/49 [00:04<00:00, 11.57it/s]\n"
     ]
    },
    {
     "name": "stdout",
     "output_type": "stream",
     "text": [
      "\n",
      "Validation accuracy before epoch 10: 0.9619\n"
     ]
    },
    {
     "name": "stderr",
     "output_type": "stream",
     "text": [
      "100%|███████████████████████████████████████████| 49/49 [00:04<00:00, 11.59it/s]\n"
     ]
    },
    {
     "name": "stdout",
     "output_type": "stream",
     "text": [
      "\n",
      "Test accuracy after 10 epochs of distillation: 0.967\n",
      "\n",
      "Test accuracy of teacher before distillation: 0.9813\n",
      "\n",
      "Validation accuracy before epoch 1: 0.0723\n"
     ]
    },
    {
     "name": "stderr",
     "output_type": "stream",
     "text": [
      "100%|███████████████████████████████████████████| 49/49 [00:04<00:00, 11.10it/s]\n"
     ]
    },
    {
     "name": "stdout",
     "output_type": "stream",
     "text": [
      "\n",
      "Validation accuracy before epoch 2: 0.8847\n"
     ]
    },
    {
     "name": "stderr",
     "output_type": "stream",
     "text": [
      "100%|███████████████████████████████████████████| 49/49 [00:04<00:00, 11.45it/s]\n"
     ]
    },
    {
     "name": "stdout",
     "output_type": "stream",
     "text": [
      "\n",
      "Validation accuracy before epoch 3: 0.9182\n"
     ]
    },
    {
     "name": "stderr",
     "output_type": "stream",
     "text": [
      "100%|███████████████████████████████████████████| 49/49 [00:04<00:00, 11.66it/s]\n"
     ]
    },
    {
     "name": "stdout",
     "output_type": "stream",
     "text": [
      "\n",
      "Validation accuracy before epoch 4: 0.9304\n"
     ]
    },
    {
     "name": "stderr",
     "output_type": "stream",
     "text": [
      "100%|███████████████████████████████████████████| 49/49 [00:04<00:00, 11.89it/s]\n"
     ]
    },
    {
     "name": "stdout",
     "output_type": "stream",
     "text": [
      "\n",
      "Validation accuracy before epoch 5: 0.9396\n"
     ]
    },
    {
     "name": "stderr",
     "output_type": "stream",
     "text": [
      "100%|███████████████████████████████████████████| 49/49 [00:04<00:00, 12.03it/s]\n"
     ]
    },
    {
     "name": "stdout",
     "output_type": "stream",
     "text": [
      "\n",
      "Validation accuracy before epoch 6: 0.9461\n"
     ]
    },
    {
     "name": "stderr",
     "output_type": "stream",
     "text": [
      "100%|███████████████████████████████████████████| 49/49 [00:04<00:00, 11.55it/s]\n"
     ]
    },
    {
     "name": "stdout",
     "output_type": "stream",
     "text": [
      "\n",
      "Validation accuracy before epoch 7: 0.9504\n"
     ]
    },
    {
     "name": "stderr",
     "output_type": "stream",
     "text": [
      "100%|███████████████████████████████████████████| 49/49 [00:04<00:00, 11.74it/s]\n"
     ]
    },
    {
     "name": "stdout",
     "output_type": "stream",
     "text": [
      "\n",
      "Validation accuracy before epoch 8: 0.9539\n"
     ]
    },
    {
     "name": "stderr",
     "output_type": "stream",
     "text": [
      "100%|███████████████████████████████████████████| 49/49 [00:04<00:00, 11.74it/s]\n"
     ]
    },
    {
     "name": "stdout",
     "output_type": "stream",
     "text": [
      "\n",
      "Validation accuracy before epoch 9: 0.9588\n"
     ]
    },
    {
     "name": "stderr",
     "output_type": "stream",
     "text": [
      "100%|███████████████████████████████████████████| 49/49 [00:04<00:00, 11.67it/s]\n"
     ]
    },
    {
     "name": "stdout",
     "output_type": "stream",
     "text": [
      "\n",
      "Validation accuracy before epoch 10: 0.9616\n"
     ]
    },
    {
     "name": "stderr",
     "output_type": "stream",
     "text": [
      "100%|███████████████████████████████████████████| 49/49 [00:04<00:00, 11.54it/s]\n"
     ]
    },
    {
     "name": "stdout",
     "output_type": "stream",
     "text": [
      "\n",
      "Test accuracy after 10 epochs of distillation: 0.9665\n",
      "\n",
      "Test accuracy of teacher before distillation: 0.9813\n",
      "\n",
      "Validation accuracy before epoch 1: 0.0955\n"
     ]
    },
    {
     "name": "stderr",
     "output_type": "stream",
     "text": [
      "100%|███████████████████████████████████████████| 49/49 [00:04<00:00, 11.22it/s]\n"
     ]
    },
    {
     "name": "stdout",
     "output_type": "stream",
     "text": [
      "\n",
      "Validation accuracy before epoch 2: 0.8886\n"
     ]
    },
    {
     "name": "stderr",
     "output_type": "stream",
     "text": [
      "100%|███████████████████████████████████████████| 49/49 [00:04<00:00, 11.58it/s]\n"
     ]
    },
    {
     "name": "stdout",
     "output_type": "stream",
     "text": [
      "\n",
      "Validation accuracy before epoch 3: 0.9177\n"
     ]
    },
    {
     "name": "stderr",
     "output_type": "stream",
     "text": [
      "100%|███████████████████████████████████████████| 49/49 [00:04<00:00, 11.32it/s]\n"
     ]
    },
    {
     "name": "stdout",
     "output_type": "stream",
     "text": [
      "\n",
      "Validation accuracy before epoch 4: 0.9321\n"
     ]
    },
    {
     "name": "stderr",
     "output_type": "stream",
     "text": [
      "100%|███████████████████████████████████████████| 49/49 [00:04<00:00, 11.14it/s]\n"
     ]
    },
    {
     "name": "stdout",
     "output_type": "stream",
     "text": [
      "\n",
      "Validation accuracy before epoch 5: 0.9428\n"
     ]
    },
    {
     "name": "stderr",
     "output_type": "stream",
     "text": [
      "100%|███████████████████████████████████████████| 49/49 [00:04<00:00, 11.56it/s]\n"
     ]
    },
    {
     "name": "stdout",
     "output_type": "stream",
     "text": [
      "\n",
      "Validation accuracy before epoch 6: 0.9482\n"
     ]
    },
    {
     "name": "stderr",
     "output_type": "stream",
     "text": [
      "100%|███████████████████████████████████████████| 49/49 [00:04<00:00, 11.42it/s]\n"
     ]
    },
    {
     "name": "stdout",
     "output_type": "stream",
     "text": [
      "\n",
      "Validation accuracy before epoch 7: 0.9531\n"
     ]
    },
    {
     "name": "stderr",
     "output_type": "stream",
     "text": [
      "100%|███████████████████████████████████████████| 49/49 [00:04<00:00, 11.78it/s]\n"
     ]
    },
    {
     "name": "stdout",
     "output_type": "stream",
     "text": [
      "\n",
      "Validation accuracy before epoch 8: 0.958\n"
     ]
    },
    {
     "name": "stderr",
     "output_type": "stream",
     "text": [
      "100%|███████████████████████████████████████████| 49/49 [00:04<00:00, 11.54it/s]\n"
     ]
    },
    {
     "name": "stdout",
     "output_type": "stream",
     "text": [
      "\n",
      "Validation accuracy before epoch 9: 0.9608\n"
     ]
    },
    {
     "name": "stderr",
     "output_type": "stream",
     "text": [
      "100%|███████████████████████████████████████████| 49/49 [00:04<00:00, 11.21it/s]\n"
     ]
    },
    {
     "name": "stdout",
     "output_type": "stream",
     "text": [
      "\n",
      "Validation accuracy before epoch 10: 0.9639\n"
     ]
    },
    {
     "name": "stderr",
     "output_type": "stream",
     "text": [
      "100%|███████████████████████████████████████████| 49/49 [00:04<00:00, 11.81it/s]\n"
     ]
    },
    {
     "name": "stdout",
     "output_type": "stream",
     "text": [
      "\n",
      "Test accuracy after 10 epochs of distillation: 0.9678\n",
      "\n",
      "Test accuracy of teacher before distillation: 0.9813\n",
      "\n",
      "Validation accuracy before epoch 1: 0.0765\n"
     ]
    },
    {
     "name": "stderr",
     "output_type": "stream",
     "text": [
      "100%|███████████████████████████████████████████| 49/49 [00:04<00:00, 11.22it/s]\n"
     ]
    },
    {
     "name": "stdout",
     "output_type": "stream",
     "text": [
      "\n",
      "Validation accuracy before epoch 2: 0.8867\n"
     ]
    },
    {
     "name": "stderr",
     "output_type": "stream",
     "text": [
      "100%|███████████████████████████████████████████| 49/49 [00:04<00:00, 11.56it/s]\n"
     ]
    },
    {
     "name": "stdout",
     "output_type": "stream",
     "text": [
      "\n",
      "Validation accuracy before epoch 3: 0.9167\n"
     ]
    },
    {
     "name": "stderr",
     "output_type": "stream",
     "text": [
      "100%|███████████████████████████████████████████| 49/49 [00:04<00:00, 11.67it/s]\n"
     ]
    },
    {
     "name": "stdout",
     "output_type": "stream",
     "text": [
      "\n",
      "Validation accuracy before epoch 4: 0.9323\n"
     ]
    },
    {
     "name": "stderr",
     "output_type": "stream",
     "text": [
      "100%|███████████████████████████████████████████| 49/49 [00:04<00:00, 11.65it/s]\n"
     ]
    },
    {
     "name": "stdout",
     "output_type": "stream",
     "text": [
      "\n",
      "Validation accuracy before epoch 5: 0.9407\n"
     ]
    },
    {
     "name": "stderr",
     "output_type": "stream",
     "text": [
      "100%|███████████████████████████████████████████| 49/49 [00:04<00:00, 11.19it/s]\n"
     ]
    },
    {
     "name": "stdout",
     "output_type": "stream",
     "text": [
      "\n",
      "Validation accuracy before epoch 6: 0.9487\n"
     ]
    },
    {
     "name": "stderr",
     "output_type": "stream",
     "text": [
      "100%|███████████████████████████████████████████| 49/49 [00:04<00:00, 11.50it/s]\n"
     ]
    },
    {
     "name": "stdout",
     "output_type": "stream",
     "text": [
      "\n",
      "Validation accuracy before epoch 7: 0.954\n"
     ]
    },
    {
     "name": "stderr",
     "output_type": "stream",
     "text": [
      "100%|███████████████████████████████████████████| 49/49 [00:04<00:00, 11.66it/s]\n"
     ]
    },
    {
     "name": "stdout",
     "output_type": "stream",
     "text": [
      "\n",
      "Validation accuracy before epoch 8: 0.9579\n"
     ]
    },
    {
     "name": "stderr",
     "output_type": "stream",
     "text": [
      "100%|███████████████████████████████████████████| 49/49 [00:04<00:00, 11.68it/s]\n"
     ]
    },
    {
     "name": "stdout",
     "output_type": "stream",
     "text": [
      "\n",
      "Validation accuracy before epoch 9: 0.9599\n"
     ]
    },
    {
     "name": "stderr",
     "output_type": "stream",
     "text": [
      "100%|███████████████████████████████████████████| 49/49 [00:04<00:00, 11.78it/s]\n"
     ]
    },
    {
     "name": "stdout",
     "output_type": "stream",
     "text": [
      "\n",
      "Validation accuracy before epoch 10: 0.9632\n"
     ]
    },
    {
     "name": "stderr",
     "output_type": "stream",
     "text": [
      "100%|███████████████████████████████████████████| 49/49 [00:04<00:00, 11.40it/s]\n"
     ]
    },
    {
     "name": "stdout",
     "output_type": "stream",
     "text": [
      "\n",
      "Test accuracy after 10 epochs of distillation: 0.9671\n"
     ]
    }
   ],
   "source": [
    "# Distill trained teacher knowledge into student\n",
    "# Make sure student is freshly initialized and \n",
    "# teacher is trained before distillation\n",
    "\n",
    "test_acc_per_temp = []\n",
    "test_temperature = [1, 2.5, 5, 10, 20]\n",
    "results = {}\n",
    "results['Epoch'] = epochs\n",
    "for temp in test_temperature:\n",
    "    \"\"\"Initialization\"\"\"\n",
    "    # To make sure the student is freshly initialized, I delete the object and create again.\n",
    "    del student\n",
    "    student = TinyModel().cuda()\n",
    "    # The teacher object trained in the cells above will be used.\n",
    "    test_acc = evaluate(teacher, test_loader)\n",
    "    print(f'\\nTest accuracy of teacher before distillation: {test_acc}')\n",
    "    \n",
    "    \"\"\"Distillation\"\"\"\n",
    "    results[temp] = []\n",
    "    for epoch in range(10):\n",
    "        val_acc = evaluate(student, val_loader)\n",
    "        print(f'\\nValidation accuracy before epoch {epoch+1}: {val_acc}')\n",
    "        distill(teacher, student, train_loader, temperature=temp)\n",
    "        val_acc_after = evaluate(student, val_loader)\n",
    "        results[temp].append(val_acc_after)\n",
    "\n",
    "    test_acc = evaluate(student, test_loader)\n",
    "    test_acc_per_temp.append(test_acc)\n",
    "    print(f'\\nTest accuracy after {epoch+1} epochs of distillation: {test_acc}')"
   ]
  },
  {
   "cell_type": "markdown",
   "metadata": {},
   "source": [
    "## Report the temperature that obtains best distillation test accuracy"
   ]
  },
  {
   "cell_type": "code",
   "execution_count": 17,
   "metadata": {},
   "outputs": [
    {
     "data": {
      "text/html": [
       "<style type=\"text/css\">\n",
       "#T_8acdc_row3_col0 {\n",
       "  background-color: lightgreen;\n",
       "}\n",
       "</style>\n",
       "<table id=\"T_8acdc_\">\n",
       "  <thead>\n",
       "    <tr>\n",
       "      <th class=\"blank level0\" >&nbsp;</th>\n",
       "      <th class=\"col_heading level0 col0\" >Test Accuracy</th>\n",
       "    </tr>\n",
       "  </thead>\n",
       "  <tbody>\n",
       "    <tr>\n",
       "      <th id=\"T_8acdc_level0_row0\" class=\"row_heading level0 row0\" >1.0</th>\n",
       "      <td id=\"T_8acdc_row0_col0\" class=\"data row0 col0\" >0.966300</td>\n",
       "    </tr>\n",
       "    <tr>\n",
       "      <th id=\"T_8acdc_level0_row1\" class=\"row_heading level0 row1\" >2.5</th>\n",
       "      <td id=\"T_8acdc_row1_col0\" class=\"data row1 col0\" >0.967000</td>\n",
       "    </tr>\n",
       "    <tr>\n",
       "      <th id=\"T_8acdc_level0_row2\" class=\"row_heading level0 row2\" >5.0</th>\n",
       "      <td id=\"T_8acdc_row2_col0\" class=\"data row2 col0\" >0.966500</td>\n",
       "    </tr>\n",
       "    <tr>\n",
       "      <th id=\"T_8acdc_level0_row3\" class=\"row_heading level0 row3\" >10.0</th>\n",
       "      <td id=\"T_8acdc_row3_col0\" class=\"data row3 col0\" >0.967800</td>\n",
       "    </tr>\n",
       "    <tr>\n",
       "      <th id=\"T_8acdc_level0_row4\" class=\"row_heading level0 row4\" >20.0</th>\n",
       "      <td id=\"T_8acdc_row4_col0\" class=\"data row4 col0\" >0.967100</td>\n",
       "    </tr>\n",
       "  </tbody>\n",
       "</table>\n"
      ],
      "text/plain": [
       "<pandas.io.formats.style.Styler at 0x7fec604267c0>"
      ]
     },
     "execution_count": 17,
     "metadata": {},
     "output_type": "execute_result"
    }
   ],
   "source": [
    "df_test = pd.DataFrame({'Test Accuracy': test_acc_per_temp}, index = test_temperature)\n",
    "df_test = df_test.style.highlight_max(color = 'lightgreen', axis = 0)\n",
    "df_test"
   ]
  },
  {
   "cell_type": "markdown",
   "metadata": {},
   "source": [
    "The best distillation accuracy obtained with Tempereture 10"
   ]
  },
  {
   "cell_type": "code",
   "execution_count": 18,
   "metadata": {},
   "outputs": [],
   "source": [
    "best_temperature = 10"
   ]
  },
  {
   "cell_type": "markdown",
   "metadata": {},
   "source": [
    "## Report the best validation obtained by distillation"
   ]
  },
  {
   "cell_type": "code",
   "execution_count": 19,
   "metadata": {},
   "outputs": [
    {
     "data": {
      "text/html": [
       "<style type=\"text/css\">\n",
       "#T_9a6bd_row9_col0, #T_9a6bd_row9_col1, #T_9a6bd_row9_col2, #T_9a6bd_row9_col3, #T_9a6bd_row9_col4 {\n",
       "  background-color: lightgreen;\n",
       "}\n",
       "</style>\n",
       "<table id=\"T_9a6bd_\">\n",
       "  <thead>\n",
       "    <tr>\n",
       "      <th class=\"blank level0\" >&nbsp;</th>\n",
       "      <th class=\"col_heading level0 col0\" >1</th>\n",
       "      <th class=\"col_heading level0 col1\" >2.5</th>\n",
       "      <th class=\"col_heading level0 col2\" >5</th>\n",
       "      <th class=\"col_heading level0 col3\" >10</th>\n",
       "      <th class=\"col_heading level0 col4\" >20</th>\n",
       "    </tr>\n",
       "    <tr>\n",
       "      <th class=\"index_name level0\" >Epoch</th>\n",
       "      <th class=\"blank col0\" >&nbsp;</th>\n",
       "      <th class=\"blank col1\" >&nbsp;</th>\n",
       "      <th class=\"blank col2\" >&nbsp;</th>\n",
       "      <th class=\"blank col3\" >&nbsp;</th>\n",
       "      <th class=\"blank col4\" >&nbsp;</th>\n",
       "    </tr>\n",
       "  </thead>\n",
       "  <tbody>\n",
       "    <tr>\n",
       "      <th id=\"T_9a6bd_level0_row0\" class=\"row_heading level0 row0\" >1</th>\n",
       "      <td id=\"T_9a6bd_row0_col0\" class=\"data row0 col0\" >0.882400</td>\n",
       "      <td id=\"T_9a6bd_row0_col1\" class=\"data row0 col1\" >0.887500</td>\n",
       "      <td id=\"T_9a6bd_row0_col2\" class=\"data row0 col2\" >0.884700</td>\n",
       "      <td id=\"T_9a6bd_row0_col3\" class=\"data row0 col3\" >0.888600</td>\n",
       "      <td id=\"T_9a6bd_row0_col4\" class=\"data row0 col4\" >0.886700</td>\n",
       "    </tr>\n",
       "    <tr>\n",
       "      <th id=\"T_9a6bd_level0_row1\" class=\"row_heading level0 row1\" >2</th>\n",
       "      <td id=\"T_9a6bd_row1_col0\" class=\"data row1 col0\" >0.918500</td>\n",
       "      <td id=\"T_9a6bd_row1_col1\" class=\"data row1 col1\" >0.915500</td>\n",
       "      <td id=\"T_9a6bd_row1_col2\" class=\"data row1 col2\" >0.918200</td>\n",
       "      <td id=\"T_9a6bd_row1_col3\" class=\"data row1 col3\" >0.917700</td>\n",
       "      <td id=\"T_9a6bd_row1_col4\" class=\"data row1 col4\" >0.916700</td>\n",
       "    </tr>\n",
       "    <tr>\n",
       "      <th id=\"T_9a6bd_level0_row2\" class=\"row_heading level0 row2\" >3</th>\n",
       "      <td id=\"T_9a6bd_row2_col0\" class=\"data row2 col0\" >0.931900</td>\n",
       "      <td id=\"T_9a6bd_row2_col1\" class=\"data row2 col1\" >0.933100</td>\n",
       "      <td id=\"T_9a6bd_row2_col2\" class=\"data row2 col2\" >0.930400</td>\n",
       "      <td id=\"T_9a6bd_row2_col3\" class=\"data row2 col3\" >0.932100</td>\n",
       "      <td id=\"T_9a6bd_row2_col4\" class=\"data row2 col4\" >0.932300</td>\n",
       "    </tr>\n",
       "    <tr>\n",
       "      <th id=\"T_9a6bd_level0_row3\" class=\"row_heading level0 row3\" >4</th>\n",
       "      <td id=\"T_9a6bd_row3_col0\" class=\"data row3 col0\" >0.941000</td>\n",
       "      <td id=\"T_9a6bd_row3_col1\" class=\"data row3 col1\" >0.941400</td>\n",
       "      <td id=\"T_9a6bd_row3_col2\" class=\"data row3 col2\" >0.939600</td>\n",
       "      <td id=\"T_9a6bd_row3_col3\" class=\"data row3 col3\" >0.942800</td>\n",
       "      <td id=\"T_9a6bd_row3_col4\" class=\"data row3 col4\" >0.940700</td>\n",
       "    </tr>\n",
       "    <tr>\n",
       "      <th id=\"T_9a6bd_level0_row4\" class=\"row_heading level0 row4\" >5</th>\n",
       "      <td id=\"T_9a6bd_row4_col0\" class=\"data row4 col0\" >0.946500</td>\n",
       "      <td id=\"T_9a6bd_row4_col1\" class=\"data row4 col1\" >0.949200</td>\n",
       "      <td id=\"T_9a6bd_row4_col2\" class=\"data row4 col2\" >0.946100</td>\n",
       "      <td id=\"T_9a6bd_row4_col3\" class=\"data row4 col3\" >0.948200</td>\n",
       "      <td id=\"T_9a6bd_row4_col4\" class=\"data row4 col4\" >0.948700</td>\n",
       "    </tr>\n",
       "    <tr>\n",
       "      <th id=\"T_9a6bd_level0_row5\" class=\"row_heading level0 row5\" >6</th>\n",
       "      <td id=\"T_9a6bd_row5_col0\" class=\"data row5 col0\" >0.951100</td>\n",
       "      <td id=\"T_9a6bd_row5_col1\" class=\"data row5 col1\" >0.953200</td>\n",
       "      <td id=\"T_9a6bd_row5_col2\" class=\"data row5 col2\" >0.950400</td>\n",
       "      <td id=\"T_9a6bd_row5_col3\" class=\"data row5 col3\" >0.953100</td>\n",
       "      <td id=\"T_9a6bd_row5_col4\" class=\"data row5 col4\" >0.954000</td>\n",
       "    </tr>\n",
       "    <tr>\n",
       "      <th id=\"T_9a6bd_level0_row6\" class=\"row_heading level0 row6\" >7</th>\n",
       "      <td id=\"T_9a6bd_row6_col0\" class=\"data row6 col0\" >0.956400</td>\n",
       "      <td id=\"T_9a6bd_row6_col1\" class=\"data row6 col1\" >0.955300</td>\n",
       "      <td id=\"T_9a6bd_row6_col2\" class=\"data row6 col2\" >0.953900</td>\n",
       "      <td id=\"T_9a6bd_row6_col3\" class=\"data row6 col3\" >0.958000</td>\n",
       "      <td id=\"T_9a6bd_row6_col4\" class=\"data row6 col4\" >0.957900</td>\n",
       "    </tr>\n",
       "    <tr>\n",
       "      <th id=\"T_9a6bd_level0_row7\" class=\"row_heading level0 row7\" >8</th>\n",
       "      <td id=\"T_9a6bd_row7_col0\" class=\"data row7 col0\" >0.960700</td>\n",
       "      <td id=\"T_9a6bd_row7_col1\" class=\"data row7 col1\" >0.959000</td>\n",
       "      <td id=\"T_9a6bd_row7_col2\" class=\"data row7 col2\" >0.958800</td>\n",
       "      <td id=\"T_9a6bd_row7_col3\" class=\"data row7 col3\" >0.960800</td>\n",
       "      <td id=\"T_9a6bd_row7_col4\" class=\"data row7 col4\" >0.959900</td>\n",
       "    </tr>\n",
       "    <tr>\n",
       "      <th id=\"T_9a6bd_level0_row8\" class=\"row_heading level0 row8\" >9</th>\n",
       "      <td id=\"T_9a6bd_row8_col0\" class=\"data row8 col0\" >0.961700</td>\n",
       "      <td id=\"T_9a6bd_row8_col1\" class=\"data row8 col1\" >0.961900</td>\n",
       "      <td id=\"T_9a6bd_row8_col2\" class=\"data row8 col2\" >0.961600</td>\n",
       "      <td id=\"T_9a6bd_row8_col3\" class=\"data row8 col3\" >0.963900</td>\n",
       "      <td id=\"T_9a6bd_row8_col4\" class=\"data row8 col4\" >0.963200</td>\n",
       "    </tr>\n",
       "    <tr>\n",
       "      <th id=\"T_9a6bd_level0_row9\" class=\"row_heading level0 row9\" >10</th>\n",
       "      <td id=\"T_9a6bd_row9_col0\" class=\"data row9 col0\" >0.965200</td>\n",
       "      <td id=\"T_9a6bd_row9_col1\" class=\"data row9 col1\" >0.964100</td>\n",
       "      <td id=\"T_9a6bd_row9_col2\" class=\"data row9 col2\" >0.963100</td>\n",
       "      <td id=\"T_9a6bd_row9_col3\" class=\"data row9 col3\" >0.965900</td>\n",
       "      <td id=\"T_9a6bd_row9_col4\" class=\"data row9 col4\" >0.964200</td>\n",
       "    </tr>\n",
       "  </tbody>\n",
       "</table>\n"
      ],
      "text/plain": [
       "<pandas.io.formats.style.Styler at 0x7fec60334580>"
      ]
     },
     "metadata": {},
     "output_type": "display_data"
    }
   ],
   "source": [
    "df = pd.DataFrame.from_dict(results,orient='columns' ).set_index('Epoch')\n",
    "df_best_val_epoch = df.style.highlight_max(color = 'lightgreen', axis = 0)\n",
    "display(df_best_val_epoch)"
   ]
  },
  {
   "cell_type": "markdown",
   "metadata": {},
   "source": [
    "Best validation for each temperature value is obtained in the last epoch and the values are highligted in the table."
   ]
  },
  {
   "cell_type": "markdown",
   "metadata": {},
   "source": [
    "## Report test accuracy obtained by distillation"
   ]
  },
  {
   "cell_type": "markdown",
   "metadata": {},
   "source": [
    "As we higlighted two cells above, the best test accuracy is 0.968400 with Temperature 10"
   ]
  },
  {
   "cell_type": "markdown",
   "metadata": {},
   "source": [
    "## Plot the validation accuracy with respect to training epoch"
   ]
  },
  {
   "cell_type": "code",
   "execution_count": 20,
   "metadata": {},
   "outputs": [
    {
     "data": {
      "image/png": "[encoded data removed]",
      "text/plain": [
       "<Figure size 432x288 with 1 Axes>"
      ]
     },
     "metadata": {
      "needs_background": "light"
     },
     "output_type": "display_data"
    }
   ],
   "source": [
    "plt.plot(epochs, results[best_temperature])\n",
    "plt.xlabel('Training Epoch')\n",
    "plt.ylabel('Validation Accuracy')\n",
    "plt.title('Distillation - Validation Acc vs Epoch')\n",
    "plt.show()"
   ]
  },
  {
   "cell_type": "markdown",
   "metadata": {},
   "source": [
    "# Section 4\n",
    "## Plot the validation accuracy for distillation with the best temperature constant and standalone training of the student"
   ]
  },
  {
   "cell_type": "code",
   "execution_count": 21,
   "metadata": {},
   "outputs": [
    {
     "data": {
      "image/png": "[encoded data removed]",
      "text/plain": [
       "<Figure size 432x288 with 1 Axes>"
      ]
     },
     "metadata": {
      "needs_background": "light"
     },
     "output_type": "display_data"
    }
   ],
   "source": [
    "plt.plot(epochs, student_only, label = 'Student Only')\n",
    "plt.plot(epochs, results[best_temperature], label = 'Distillation')\n",
    "plt.xlabel('Training Epoch')\n",
    "plt.ylabel('Validation Accuracy')\n",
    "plt.title('Validation Acc vs Epoch')\n",
    "plt.legend()\n",
    "plt.show()"
   ]
  },
  {
   "cell_type": "markdown",
   "metadata": {},
   "source": [
    "## Discuss\n"
   ]
  },
  {
   "cell_type": "markdown",
   "metadata": {},
   "source": [
    "In the 'Distilling the Knowledge in a Neural Network' paper, there is a statement that \"... the small model can often be trained on much less data than the original cumbersome model and using a much higher learning rate\". We can highlight the statement with the limited epoch that the model trained without distillation tends to fluctuate while training. On the other hand, the distillation method tells the smaller model more decisively in which direction it should proceed in training. "
   ]
  },
  {
   "cell_type": "code",
   "execution_count": null,
   "metadata": {},
   "outputs": [],
   "source": []
  }
 ],
 "metadata": {
  "accelerator": "GPU",
  "colab": {
   "collapsed_sections": [],
   "name": "mmi712_hw3 (4).ipynb",
   "provenance": []
  },
  "kernelspec": {
   "display_name": "Python [conda env:dl] *",
   "language": "python",
   "name": "conda-env-dl-py"
  },
  "language_info": {
   "codemirror_mode": {
    "name": "ipython",
    "version": 3
   },
   "file_extension": ".py",
   "mimetype": "text/x-python",
   "name": "python",
   "nbconvert_exporter": "python",
   "pygments_lexer": "ipython3",
   "version": "3.9.12"
  }
 },
 "nbformat": 4,
 "nbformat_minor": 4
}
